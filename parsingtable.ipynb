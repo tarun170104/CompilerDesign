{
  "nbformat": 4,
  "nbformat_minor": 0,
  "metadata": {
    "colab": {
      "provenance": [],
      "authorship_tag": "ABX9TyPchXtwYyJeZAZhVoaTpDNu",
      "include_colab_link": true
    },
    "kernelspec": {
      "name": "python3",
      "display_name": "Python 3"
    },
    "language_info": {
      "name": "python"
    }
  },
  "cells": [
    {
      "cell_type": "markdown",
      "metadata": {
        "id": "view-in-github",
        "colab_type": "text"
      },
      "source": [
        "<a href=\"https://colab.research.google.com/github/tarun170104/CompilerDesign/blob/main/parsingtable.ipynb\" target=\"_parent\"><img src=\"https://colab.research.google.com/assets/colab-badge.svg\" alt=\"Open In Colab\"/></a>"
      ]
    },
    {
      "cell_type": "code",
      "execution_count": 1,
      "metadata": {
        "colab": {
          "base_uri": "https://localhost:8080/"
        },
        "id": "f4wphlphnabN",
        "outputId": "52868221-0c3a-4769-ae4f-1ad044cf2539"
      },
      "outputs": [
        {
          "output_type": "stream",
          "name": "stdout",
          "text": [
            "Writing parsingtable.c\n"
          ]
        }
      ],
      "source": [
        "%%writefile parsingtable.c\n",
        "#include <stdio.h>\n",
        "#include <string.h>\n",
        "\n",
        "char prol[7][10] = { \"S\", \"A\", \"A\", \"B\", \"B\", \"C\", \"C\" };\n",
        "char pror[7][10] = { \"A\", \"Bb\", \"Cd\", \"aB\", \"@\", \"Cc\", \"@\" };\n",
        "char prod[7][10] = { \"S->A\", \"A->Bb\", \"A->Cd\", \"B->aB\", \"B->@\", \"C->Cc\", \"C->@\" };\n",
        "char first[7][10] = { \"abcd\", \"ab\", \"cd\", \"a@\", \"@\", \"c@\", \"@\" };\n",
        "char follow[7][10] = { \"$\", \"$\", \"$\", \"a$\", \"b$\", \"c$\", \"d$\" };\n",
        "char table[5][6][10];\n",
        "\n",
        "int numr(char c)\n",
        "{\n",
        "   switch (c)\n",
        "   {\n",
        "      case 'S':\n",
        "         return 0;\n",
        "\n",
        "      case 'A':\n",
        "         return 1;\n",
        "\n",
        "      case 'B':\n",
        "         return 2;\n",
        "\n",
        "      case 'C':\n",
        "         return 3;\n",
        "\n",
        "      case 'a':\n",
        "         return 0;\n",
        "\n",
        "      case 'b':\n",
        "         return 1;\n",
        "\n",
        "      case 'c':\n",
        "         return 2;\n",
        "\n",
        "      case 'd':\n",
        "         return 3;\n",
        "\n",
        "      case '$':\n",
        "         return 4;\n",
        "   }\n",
        "\n",
        "   return (2);\n",
        "}\n",
        "\n",
        "int main()\n",
        "{\n",
        "   int i, j, k;\n",
        "\n",
        "   for (i = 0; i < 5; i++)\n",
        "      for (j = 0; j < 6; j++)\n",
        "         strcpy(table[i][j], \" \");\n",
        "\n",
        "   printf(\"The following grammar is used for Parsing Table:\\n\");\n",
        "\n",
        "   for (i = 0; i < 7; i++)\n",
        "      printf(\"%s\\n\", prod[i]);\n",
        "\n",
        "   printf(\"\\nPredictive parsing table:\\n\");\n",
        "\n",
        "   fflush(stdin);\n",
        "\n",
        "   for (i = 0; i < 7; i++)\n",
        "   {\n",
        "      k = strlen(first[i]);\n",
        "      for (j = 0; j < 10; j++)\n",
        "         if (first[i][j] != '@')\n",
        "            strcpy(table[numr(prol[i][0]) + 1][numr(first[i][j]) + 1], prod[i]);\n",
        "   }\n",
        "\n",
        "   for (i = 0; i < 7; i++)\n",
        "   {\n",
        "      if (strlen(pror[i]) == 1)\n",
        "      {\n",
        "         if (pror[i][0] == '@')\n",
        "         {\n",
        "            k = strlen(follow[i]);\n",
        "            for (j = 0; j < k; j++)\n",
        "               strcpy(table[numr(prol[i][0]) + 1][numr(follow[i][j]) + 1], prod[i]);\n",
        "         }\n",
        "      }\n",
        "   }\n",
        "\n",
        "   strcpy(table[0][0], \" \");\n",
        "\n",
        "   strcpy(table[0][1], \"a\");\n",
        "\n",
        "   strcpy(table[0][2], \"b\");\n",
        "\n",
        "   strcpy(table[0][3], \"c\");\n",
        "\n",
        "   strcpy(table[0][4], \"d\");\n",
        "\n",
        "   strcpy(table[0][5], \"$\");\n",
        "\n",
        "   strcpy(table[1][0], \"S\");\n",
        "\n",
        "   strcpy(table[2][0], \"A\");\n",
        "\n",
        "   strcpy(table[3][0], \"B\");\n",
        "\n",
        "   strcpy(table[4][0], \"C\");\n",
        "\n",
        "   printf(\"\\n--------------------------------------------------------\\n\");\n",
        "\n",
        "   for (i = 0; i < 5; i++)\n",
        "      for (j = 0; j < 6; j++)\n",
        "      {\n",
        "         printf(\"%-10s\", table[i][j]);\n",
        "         if (j == 5)\n",
        "            printf(\"\\n--------------------------------------------------------\\n\");\n",
        "      }\n",
        "}"
      ]
    }
  ]
}