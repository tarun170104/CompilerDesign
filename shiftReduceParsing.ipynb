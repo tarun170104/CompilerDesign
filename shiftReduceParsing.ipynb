{
  "nbformat": 4,
  "nbformat_minor": 0,
  "metadata": {
    "colab": {
      "provenance": [],
      "authorship_tag": "ABX9TyNgosRCQ5O1upMIW3PbTrX7",
      "include_colab_link": true
    },
    "kernelspec": {
      "name": "python3",
      "display_name": "Python 3"
    },
    "language_info": {
      "name": "python"
    }
  },
  "cells": [
    {
      "cell_type": "markdown",
      "metadata": {
        "id": "view-in-github",
        "colab_type": "text"
      },
      "source": [
        "<a href=\"https://colab.research.google.com/github/tarun170104/CompilerDesign/blob/main/shiftReduceParsing.ipynb\" target=\"_parent\"><img src=\"https://colab.research.google.com/assets/colab-badge.svg\" alt=\"Open In Colab\"/></a>"
      ]
    },
    {
      "cell_type": "code",
      "execution_count": 1,
      "metadata": {
        "colab": {
          "base_uri": "https://localhost:8080/"
        },
        "id": "1A--GzqcoPjS",
        "outputId": "6999e96e-68cc-4452-e8a6-612f0df7fb3e"
      },
      "outputs": [
        {
          "output_type": "stream",
          "name": "stdout",
          "text": [
            "Writing shiftReduceParsing.c\n"
          ]
        }
      ],
      "source": [
        "%%writefile shiftReduceParsing.c\n",
        "#include<stdio.h>\n",
        "#include<stdlib.h>\n",
        "#include<conio.h>\n",
        "#include<string.h>\n",
        "char ip_sym[15],stack[15];\n",
        "int ip_ptr=0,st_ptr=0,len,i;\n",
        "char temp[2],temp2[2];\n",
        "char act[15];\n",
        "void check();\n",
        "void main()\n",
        "{\n",
        "clrscr();\n",
        "printf(\"\\n\\t\\t SHIFT REDUCE PARSER\\n\");\n",
        "printf(\"\\n GRAMMER\\n\");\n",
        "printf(\"\\n E->E+E\\n E->E/E\");\n",
        "printf(\"\\n E->E*E\\n E->a/b\");\n",
        "printf(\"\\n enter the input symbol:\\t\");\n",
        "gets(ip_sym);\n",
        "printf(\"\\n\\t stack implementation table\");\n",
        "printf(\"\\n stack \\t\\t input symbol\\t\\t action\");\n",
        "printf(\"\\n________\\t\\t____________\\t\\t____________\\n\");\n",
        "printf(\"\\n $\\t\\t%s$\\t\\t\\t--\",ip_sym);\n",
        "strcpy(act,\"shift\");\n",
        "temp[0]=ip_sym[ip_ptr];\n",
        "temp[1]='\\0';\n",
        "strcat(act,temp);\n",
        "len=strlen(ip_sym);\n",
        "for(i=0;i<=len-1;i++)\n",
        "{\n",
        "stack[st_ptr]=ip_sym[ip_ptr];\n",
        "stack[st_ptr+1]='\\0';\n",
        "ip_sym[ip_ptr]=' ';\n",
        "ip_ptr++;\n",
        "printf(\"\\n $%s\\t\\t%s$\\t\\t\\t%s\",stack,ip_sym,act);\n",
        "strcpy(act,\"shift\");\n",
        "temp[0]=ip_sym[ip_ptr];\n",
        "temp[1]='\\0';\n",
        "strcat(act,temp);\n",
        "check();\n",
        "st_ptr++;\n",
        "}\n",
        "st_ptr++;\n",
        "check();\n",
        "}\n",
        "void check()\n",
        "{\n",
        "int flag=0;\n",
        "temp2[0]=stack[st_ptr];\n",
        "temp2[1]='\\0';\n",
        "if((!strcmpi(temp2,\"a\"))||(!strcmpi(temp2,\"b\")))\n",
        "{\n",
        "stack[st_ptr]='E';\n",
        "if(!strcmpi(temp2,\"a\"))\n",
        "printf(\"\\n $%s\\t\\t%s$\\t\\t\\tE->a\",stack,ip_sym);\n",
        "else\n",
        "printf(\"\\n $%s\\t\\t%s$\\t\\t\\tE->b\",stack,ip_sym);\n",
        "flag=1;\n",
        "}\n",
        "if((!strcmpi(temp2,\"+\"))||(strcmpi(temp2,\"*\"))||(!strcmpi(temp2,\"/\"))) { flag=1;\n",
        "}\n",
        "if((!strcmpi(stack,\"E+E\"))||(!strcmpi(stack,\"E\\E\"))||(!strcmpi(stack,\"E*E\")))\n",
        "{\n",
        "strcpy(stack,\"E\");\n",
        "st_ptr=0;\n",
        "if(!strcmpi(stack,\"E+E\"))\n",
        "printf(\"\\n $%s\\t\\t%s$\\t\\t\\tE->E+E\",stack,ip_sym);\n",
        "else\n",
        "if(!strcmpi(stack,\"E\\E\"))\n",
        "printf(\"\\n $%s\\t\\t%s$\\t\\t\\tE->E\\E\",stack,ip_sym);\n",
        "else if(!strcmpi(stack,\"E*E\"))\n",
        "printf(\"\\n $%s\\t\\t%s$\\t\\t\\tE->E*E\",stack,ip_sym);\n",
        "else\n",
        "printf(\"\\n $%s\\t\\t%s$\\t\\t\\tE->E+E\",stack,ip_sym);\n",
        "flag=1;\n",
        "}\n",
        "if(!strcmpi(stack,\"E\")&&ip_ptr==len)\n",
        "{\n",
        "printf(\"\\n $%s\\t\\t%s$\\t\\t\\tACCEPT\",stack,ip_sym);\n",
        "getch();\n",
        "exit(0);\n",
        "}\n",
        "if(flag==0)\n",
        "{\n",
        "printf(\"\\n%s\\t\\t\\t%s\\t\\t reject\",stack,ip_sym);\n",
        "exit(0);\n",
        "}\n",
        "return;\n",
        "}"
      ]
    }
  ]
}