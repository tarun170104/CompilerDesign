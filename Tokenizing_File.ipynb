{
  "nbformat": 4,
  "nbformat_minor": 0,
  "metadata": {
    "colab": {
      "provenance": [],
      "authorship_tag": "ABX9TyOXCRArjNOu7BPnDg0IHg35",
      "include_colab_link": true
    },
    "kernelspec": {
      "name": "python3",
      "display_name": "Python 3"
    },
    "language_info": {
      "name": "python"
    }
  },
  "cells": [
    {
      "cell_type": "markdown",
      "metadata": {
        "id": "view-in-github",
        "colab_type": "text"
      },
      "source": [
        "<a href=\"https://colab.research.google.com/github/tarun170104/CompilerDesign/blob/main/Tokenizing_File.ipynb\" target=\"_parent\"><img src=\"https://colab.research.google.com/assets/colab-badge.svg\" alt=\"Open In Colab\"/></a>"
      ]
    },
    {
      "cell_type": "code",
      "execution_count": 1,
      "metadata": {
        "id": "3ZDuy52KuUCJ"
      },
      "outputs": [],
      "source": [
        "keywords={\"auto\",\"break\",\"case\",\"char\",\"const\",\"continue\",\"default\",\"do\",\"double\",\"else\",\n",
        "          \"enum\",\"extern\",\"float\",\"for\",\"goto\",\"if\",\"int\",\"long\",\"register\",\"return\",\n",
        "          \"short\",\"signed\",\"sized\",\"static\",\"struct\",\"switch\",\"typedef\",\"union\",\n",
        "          \"unsigned\",\"void\",\"volatile\",\"while\",\"printf\",\"scanf\",\"%d\",\"include\",\"stdio.h\",\n",
        "          \"main\"}\n",
        ""
      ]
    },
    {
      "cell_type": "code",
      "source": [
        "operators={\"+\",\"-\",\"*\",\"/\",\"<\",\">\",\"=\",\"<=\",\">=\",\"==\",\"++\",\"--\",\"%\"}"
      ],
      "metadata": {
        "id": "KSTysrU7uiu0"
      },
      "execution_count": 2,
      "outputs": []
    },
    {
      "cell_type": "code",
      "source": [
        "delimiters={'(',')','{','}','[',']',',','#'}"
      ],
      "metadata": {
        "id": "YOaeHiL-umWr"
      },
      "execution_count": 3,
      "outputs": []
    },
    {
      "cell_type": "code",
      "source": [
        "def detect_keywords(text):\n",
        "    arr=[]\n",
        "    for word in text:\n",
        "      if word in keywords:\n",
        "        arr.append(word)\n",
        "    return list(set(arr))\n",
        ""
      ],
      "metadata": {
        "id": "X2N_E8RquoAC"
      },
      "execution_count": 4,
      "outputs": []
    },
    {
      "cell_type": "code",
      "source": [
        "def detect_operators(text):\n",
        "  arr=[]\n",
        "  for word in text:\n",
        "    if word in operators:\n",
        "      arr.append(word)\n",
        "  return list(set(arr))\n",
        ""
      ],
      "metadata": {
        "id": "dJHLVbQRuqaE"
      },
      "execution_count": 5,
      "outputs": []
    },
    {
      "cell_type": "code",
      "source": [
        "def detect_delimiters(text):\n",
        "  arr=[]\n",
        "  for word in text:\n",
        "    if word in delimiters:\n",
        "      arr.append(word)\n",
        "  return list(set(arr))"
      ],
      "metadata": {
        "id": "5VPYTZcDus8G"
      },
      "execution_count": 6,
      "outputs": []
    },
    {
      "cell_type": "code",
      "source": [
        "def detect_num(text):\n",
        "  arr=[]\n",
        "  for word in text:\n",
        "    try:\n",
        "      a=int(word)\n",
        "      arr.append(word)\n",
        "    except:\n",
        "      pass\n",
        "  return list(set(arr))\n",
        ""
      ],
      "metadata": {
        "id": "b4xXYo9muvAY"
      },
      "execution_count": 7,
      "outputs": []
    },
    {
      "cell_type": "code",
      "source": [
        "def detect_identifiers(text):\n",
        "  k=detect_keywords(text)\n",
        "  o=detect_operators(text)\n",
        "  d=detect_delimiters(text)\n",
        "  n=detect_num(text)\n",
        "  not_ident=k+o+d+n\n",
        "  arr=[]\n",
        "  for word in text:\n",
        "    if word not in not_ident:\n",
        "      arr.append(word)\n",
        "  return arr"
      ],
      "metadata": {
        "id": "gE-7UA-luw94"
      },
      "execution_count": 8,
      "outputs": []
    },
    {
      "cell_type": "code",
      "source": [
        "with open(\"example.txt\") as t:\n",
        "  text=t.read().split()\n",
        "print(\"KEYWORDS\",detect_keywords(text))\n",
        "print(\"OPERATORS\",detect_operators(text))\n",
        "print(\"DELIMITERS\",detect_delimiters(text))\n",
        "print(\"IDENTIFIERS\",detect_identifiers(text))\n",
        "print(\"NUMBERS\",detect_num(text))"
      ],
      "metadata": {
        "colab": {
          "base_uri": "https://localhost:8080/"
        },
        "id": "JbSC6b1wuyy2",
        "outputId": "b1e00436-6ea4-4832-85cd-42b5bcc87ae6"
      },
      "execution_count": 9,
      "outputs": [
        {
          "output_type": "stream",
          "name": "stdout",
          "text": [
            "KEYWORDS ['return', 'else', 'if']\n",
            "OPERATORS ['-', '>', '*']\n",
            "DELIMITERS ['(', ')']\n",
            "IDENTIFIERS ['def', 'abs', 'a', ':', 'a', ':', 'a', ':', 'a']\n",
            "NUMBERS ['1', '0']\n"
          ]
        }
      ]
    }
  ]
}