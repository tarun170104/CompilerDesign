{
  "nbformat": 4,
  "nbformat_minor": 0,
  "metadata": {
    "colab": {
      "provenance": [],
      "authorship_tag": "ABX9TyMYlxpnZoQNBBI/lSL5DDp8",
      "include_colab_link": true
    },
    "kernelspec": {
      "name": "python3",
      "display_name": "Python 3"
    },
    "language_info": {
      "name": "python"
    }
  },
  "cells": [
    {
      "cell_type": "markdown",
      "metadata": {
        "id": "view-in-github",
        "colab_type": "text"
      },
      "source": [
        "<a href=\"https://colab.research.google.com/github/tarun170104/CompilerDesign/blob/main/count_lines.ipynb\" target=\"_parent\"><img src=\"https://colab.research.google.com/assets/colab-badge.svg\" alt=\"Open In Colab\"/></a>"
      ]
    },
    {
      "cell_type": "code",
      "execution_count": 1,
      "metadata": {
        "colab": {
          "base_uri": "https://localhost:8080/",
          "height": 140
        },
        "id": "Rdw3ksBb2Stt",
        "outputId": "92c849aa-db43-4823-a865-e863bb794d8c"
      },
      "outputs": [
        {
          "output_type": "error",
          "ename": "SyntaxError",
          "evalue": "ignored",
          "traceback": [
            "\u001b[0;36m  File \u001b[0;32m\"<ipython-input-1-8eb587a480e7>\"\u001b[0;36m, line \u001b[0;32m3\u001b[0m\n\u001b[0;31m    int lc=0,sc=0,tc=0,ch=0,wc=0;\u001b[0m\n\u001b[0m        ^\u001b[0m\n\u001b[0;31mSyntaxError\u001b[0m\u001b[0;31m:\u001b[0m invalid syntax\n"
          ]
        }
      ],
      "source": [
        "%{\n",
        "#include<stdio.h>\n",
        "int lc=0,sc=0,tc=0,ch=0,wc=0;\n",
        "%}\n",
        "%%\n",
        "[\\n] { lc++; ch+=yyleng;}\n",
        "[  \\t] { sc++; ch+=yyleng;}\n",
        "[^\\t] { tc++; ch+=yyleng;}\n",
        "[^\\t\\n ]+ { wc++;  ch+=yyleng;}\n",
        "%%\n",
        "int yywrap(){ return 1;    }\n",
        "int main(){\n",
        "    printf(\"Enter the Sentence : \");\n",
        "    yylex();\n",
        "    printf(\"Number of lines : %d\\n\",lc);\n",
        "    printf(\"Number of spaces : %d\\n\",sc);\n",
        "    printf(\"Number of tabs, words, charc : %d , %d , %d\\n\",tc,wc,ch);\n",
        "\n",
        "    return 0;\n",
        "}"
      ]
    }
  ]
}