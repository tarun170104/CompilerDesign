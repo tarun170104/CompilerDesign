{
  "nbformat": 4,
  "nbformat_minor": 0,
  "metadata": {
    "colab": {
      "provenance": [],
      "authorship_tag": "ABX9TyNZyskDNk67HO+kpGkc7fcB",
      "include_colab_link": true
    },
    "kernelspec": {
      "name": "python3",
      "display_name": "Python 3"
    },
    "language_info": {
      "name": "python"
    }
  },
  "cells": [
    {
      "cell_type": "markdown",
      "metadata": {
        "id": "view-in-github",
        "colab_type": "text"
      },
      "source": [
        "<a href=\"https://colab.research.google.com/github/tarun170104/CompilerDesign/blob/main/elimination_leftfactoring.ipynb\" target=\"_parent\"><img src=\"https://colab.research.google.com/assets/colab-badge.svg\" alt=\"Open In Colab\"/></a>"
      ]
    },
    {
      "cell_type": "code",
      "execution_count": 1,
      "metadata": {
        "colab": {
          "base_uri": "https://localhost:8080/"
        },
        "id": "qfuf5gD-jGwF",
        "outputId": "6d6c517c-dcb3-4df6-d1c2-38000986282d"
      },
      "outputs": [
        {
          "output_type": "stream",
          "name": "stdout",
          "text": [
            "Writing elimination_leftfactoring.c\n"
          ]
        }
      ],
      "source": [
        "%%writefile elimination_leftfactoring.c\n",
        "#include<stdio.h>\n",
        "#include<string.h>\n",
        "int main()\n",
        "{\n",
        "    char gram[20],part1[20],part2[20],modifiedGram[20],newGram[20],tempGram[20];\n",
        "    int i,j=0,k=0,l=0,pos;\n",
        "    printf(\"Enter Production : A->\");\n",
        "    gets(gram);\n",
        "    for(i=0;gram[i]!='|';i++,j++)\n",
        "        part1[j]=gram[i];\n",
        "    part1[j]='\\0';\n",
        "    for(j=++i,i=0;gram[j]!='\\0';j++,i++)\n",
        "        part2[i]=gram[j];\n",
        "    part2[i]='\\0';\n",
        "    for(i=0;i<strlen(part1)||i<strlen(part2);i++){\n",
        "        if(part1[i]==part2[i]){\n",
        "            modifiedGram[k]=part1[i];\n",
        "            k++;\n",
        "            pos=i+1;\n",
        "        }\n",
        "    }\n",
        "    for(i=pos,j=0;part1[i]!='\\0';i++,j++){\n",
        "        newGram[j]=part1[i];\n",
        "    }\n",
        "    newGram[j++]='|';\n",
        "    for(i=pos;part2[i]!='\\0';i++,j++){\n",
        "        newGram[j]=part2[i];\n",
        "    }\n",
        "    modifiedGram[k]='X';\n",
        "    modifiedGram[++k]='\\0';\n",
        "    newGram[j]='\\0';\n",
        "    printf(\"\\nGrammar Without Left Factoring : : \\n\");\n",
        "    printf(\" A->%s\",modifiedGram);\n",
        "    printf(\"\\n X->%s\\n\",newGram);\n",
        "}"
      ]
    }
  ]
}