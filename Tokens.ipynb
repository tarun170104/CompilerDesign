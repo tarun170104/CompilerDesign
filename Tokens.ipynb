{
  "nbformat": 4,
  "nbformat_minor": 0,
  "metadata": {
    "colab": {
      "provenance": [],
      "authorship_tag": "ABX9TyO0e2ZRIeWc06zCB+PrcIVU",
      "include_colab_link": true
    },
    "kernelspec": {
      "name": "python3",
      "display_name": "Python 3"
    },
    "language_info": {
      "name": "python"
    }
  },
  "cells": [
    {
      "cell_type": "markdown",
      "metadata": {
        "id": "view-in-github",
        "colab_type": "text"
      },
      "source": [
        "<a href=\"https://colab.research.google.com/github/tarun170104/CompilerDesign/blob/main/Tokens.ipynb\" target=\"_parent\"><img src=\"https://colab.research.google.com/assets/colab-badge.svg\" alt=\"Open In Colab\"/></a>"
      ]
    },
    {
      "cell_type": "code",
      "execution_count": 2,
      "metadata": {
        "colab": {
          "base_uri": "https://localhost:8080/"
        },
        "id": "lyQ1rG3E9r54",
        "outputId": "0af70526-5022-46d8-ef02-7bce5111db59"
      },
      "outputs": [
        {
          "output_type": "stream",
          "name": "stdout",
          "text": [
            "Overwriting tokens.c\n"
          ]
        }
      ],
      "source": [
        "%%writefile tokens.c\n",
        "#include<string.h>\n",
        "#include<ctype.h>\n",
        "#include<stdio.h>\n",
        "void keyword(char str[10])\n",
        "{\n",
        "    if(strcmp(\"for\",str)==0||strcmp(\"while\",str)==0||strcmp(\"do\",str)==0||strcmp(\"int\",str)==0||strcmp(\"float\",str)==0||strcmp(\"char\",str)==0||strcmp(\"double\",str)==0||strcmp(\"static\",str)==0||strcmp(\"switch\",str)==0||strcmp(\"case\",str)==0)\n",
        "        printf(\"\\n%s is a keyword\",str);\n",
        "    else\n",
        "        printf(\"\\n%s is an identifier\",str);\n",
        "\n",
        "}\n",
        "main()\n",
        "{\n",
        "    FILE *f1,*f2,*f3;\n",
        "    char c,str[10],st1[10];\n",
        "    str=\"a+b*c\";\n",
        "    int num[100],lineno=0,tokenvalue=0,i=0,j=0,k=0;\n",
        "    printf(\"\\nEnter the c program\");/*gets(st1);*/\n",
        "    f1=fopen(\"input\",\"w\");\n",
        "    while((c=getchar())!=EOF)\n",
        "    putc(c,f1);\n",
        "    fclose(f1);\n",
        "    f1=fopen(\"input\",\"r\");\n",
        "    f2=fopen(\"identifier\",\"w\");\n",
        "    f3=fopen(\"specialchar\",\"w\");\n",
        "    while((c=getc(f1))!=EOF){\n",
        "        if(isdigit(c)){\n",
        "            tokenvalue=c-'0';\n",
        "            c=getc(f1);\n",
        "            while(isdigit(c)){\n",
        "                tokenvalue*=10+c-'0';\n",
        "                c=getc(f1);\n",
        "              }\n",
        "            num[i++]=tokenvalue;\n",
        "            ungetc(c,f1);\n",
        "          }\n",
        "        else\n",
        "        if(isalpha(c))\n",
        "        {\n",
        "            putc(c,f2);\n",
        "            c=getc(f1);\n",
        "            while(isdigit(c)||isalpha(c)||c=='_'||c=='$'){\n",
        "                  putc(c,f2);\n",
        "                  c=getc(f1);\n",
        "              }\n",
        "              putc(' ',f2);\n",
        "              ungetc(c,f1);\n",
        "              }\n",
        "        else\n",
        "              if(c==' '||c=='\\t')\n",
        "              printf(\" \");\n",
        "              else\n",
        "              if(c=='\\n')\n",
        "              lineno++;\n",
        "              else\n",
        "              putc(c,f3);\n",
        "\n",
        "              }\n",
        "        fclose(f2);\n",
        "        fclose(f3);\n",
        "        fclose(f1);\n",
        "        printf(\"\\nThe no's in the program are\");\n",
        "        for(j=0;j<i;j++)\n",
        "        printf(\"%d\",num[j]);\n",
        "        printf(\"\\n\");\n",
        "        f2=fopen(\"identifier\",\"r\");\n",
        "        k=0;\n",
        "        printf(\"The keywords and identifiersare:\");\n",
        "              while((c=getc(f2))!=EOF)\n",
        "              {\n",
        "                  if(c!=' ')\n",
        "                  str[k++]=c;\n",
        "              else\n",
        "              {\n",
        "                str[k]='\\0';\n",
        "                keyword(str);\n",
        "                k=0;\n",
        "              }\n",
        "            }\n",
        "          fclose(f2);\n",
        "          f3=fopen(\"specialchar\",\"r\");\n",
        "          printf(\"\\nSpecial characters are\");\n",
        "          while((c=getc(f3))!=EOF)\n",
        "              printf(\"%c\",c);\n",
        "          printf(\"\\n\");\n",
        "          fclose(f3);\n",
        "          printf(\"Total no. of lines are:%d\",lineno);\n",
        "          }"
      ]
    },
    {
      "cell_type": "code",
      "source": [
        "ls -l"
      ],
      "metadata": {
        "id": "k3zeBiQP_8Ek"
      },
      "execution_count": null,
      "outputs": []
    },
    {
      "cell_type": "code",
      "source": [
        "%%shell\n",
        "gcc tokens.c -o output\n",
        "./output"
      ],
      "metadata": {
        "id": "ptfe3fxI_gEx"
      },
      "execution_count": null,
      "outputs": []
    }
  ]
}