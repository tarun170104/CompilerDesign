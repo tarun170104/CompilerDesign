{
  "nbformat": 4,
  "nbformat_minor": 0,
  "metadata": {
    "colab": {
      "provenance": [],
      "authorship_tag": "ABX9TyOJi+rAP1Uti9uZ7MGSEEdy",
      "include_colab_link": true
    },
    "kernelspec": {
      "name": "python3",
      "display_name": "Python 3"
    },
    "language_info": {
      "name": "python"
    }
  },
  "cells": [
    {
      "cell_type": "markdown",
      "metadata": {
        "id": "view-in-github",
        "colab_type": "text"
      },
      "source": [
        "<a href=\"https://colab.research.google.com/github/tarun170104/CompilerDesign/blob/main/lexical_Analyzer.ipynb\" target=\"_parent\"><img src=\"https://colab.research.google.com/assets/colab-badge.svg\" alt=\"Open In Colab\"/></a>"
      ]
    },
    {
      "cell_type": "code",
      "execution_count": 2,
      "metadata": {
        "colab": {
          "base_uri": "https://localhost:8080/"
        },
        "id": "-YOACoDQDArM",
        "outputId": "3fc3f9c7-ad2b-4e63-f2fa-37072e86aea6"
      },
      "outputs": [
        {
          "output_type": "stream",
          "name": "stdout",
          "text": [
            "Writing lexical.c\n"
          ]
        }
      ],
      "source": [
        "%%writefile lexical.c\n",
        "/* program name is lexp.l */\n",
        "%{\n",
        "/* program to recognize a c program */\n",
        "int COMMENT=0;\n",
        "int cnt=0;\n",
        "%}\n",
        "identifier [a-zA-Z][a-zA-Z0-9]*\n",
        "%%\n",
        "#.* { printf(\"\\n%s is a PREPROCESSOR DIRECTIVE\",yytext);}\n",
        "int |\n",
        "float |\n",
        "char |\n",
        "double |\n",
        "while |\n",
        "for |\n",
        "do |\n",
        "if |\n",
        "break |\n",
        "continue |\n",
        "void |\n",
        "switch |\n",
        "case |\n",
        "long |\n",
        "struct |\n",
        "const |\n",
        "typedef |\n",
        "return |\n",
        "else |\n",
        "goto {printf(\"\\n\\t%s is a KEYWORD\",yytext);}\n",
        "\"/*\" {COMMENT = 1;}\n",
        "\"*/\" {COMMENT = 0; cnt++;}\n",
        "{identifier}\\( {if(!COMMENT)printf(\"\\n\\nFUNCTION\\n\\t%s\",yytext);}\n",
        "\\{ {if(!COMMENT) printf(\"\\n BLOCK BEGINS\");}\n",
        "\\} {if(!COMMENT) printf(\"\\n BLOCK ENDS\");}\n",
        "{identifier}(\\[[0-9]*\\])? {if(!COMMENT) printf(\"\\n %s IDENTIFIER\",yytext);}\n",
        "\\\".*\\\" {if(!COMMENT) printf(\"\\n\\t%s is a STRING\",yytext);}\n",
        "[0-9]+ {if(!COMMENT) printf(\"\\n\\t%s is a NUMBER\",yytext);}\n",
        "\\)(\\;)? {if(!COMMENT) printf(\"\\n\\t\");ECHO;printf(\"\\n\");}\n",
        "\\( ECHO;\n",
        "= {if(!COMMENT)printf(\"\\n\\t%s is an ASSIGNMENT OPERATOR\",yytext);}\n",
        "\\<= |\n",
        "\\>= |\n",
        "\\< |\n",
        "== |\n",
        "\\> {if(!COMMENT) printf(\"\\n\\t%s is a RELATIONAL OPERATOR\",yytext);}\n",
        "%%\n",
        "\n",
        "\n",
        "\n",
        "int main(int argc,char **argv)\n",
        "{\n",
        "if (argc > 1)\n",
        "{\n",
        "FILE *file;\n",
        "file = fopen(argv[1],\"r\");\n",
        "if(!file)\n",
        "{\n",
        "printf(\"could not open %s \\n\",argv[1]);\n",
        "exit(0);\n",
        "}\n",
        "yyin = file;\n",
        "}\n",
        "yylex();\n",
        "printf(\"\\n\\n Total No.Of comments are %d\",cnt);\n",
        "return 0;\n",
        "}\n",
        "int yywrap()\n",
        "{\n",
        "return 1;\n",
        "\n",
        "}\n"
      ]
    }
  ]
}